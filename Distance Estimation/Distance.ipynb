{
  "nbformat": 4,
  "nbformat_minor": 0,
  "metadata": {
    "colab": {
      "name": "Dist_est.ipynb",
      "provenance": []
    },
    "kernelspec": {
      "name": "python3",
      "display_name": "Python 3"
    }
  },
  "cells": [
    {
      "cell_type": "code",
      "metadata": {
        "id": "AeFCWJFx-Oqo"
      },
      "source": [
        "# img_box_ratio = 0.5\n",
        "# distance/(box length)\n",
        "dist_box_ratio = 2\n",
        "box_len = 1\n",
        "dir = 'straight'\n",
        "img_syb = 7"
      ],
      "execution_count": null,
      "outputs": []
    },
    {
      "cell_type": "code",
      "metadata": {
        "id": "EF9h3V1u-e1f"
      },
      "source": [
        "def conf_init():\n",
        "  confidence = {}\n",
        "  for i in [0.1,0.2,0.3,0.4,0.5]:\n",
        "    confidence[i]= i * 2\n",
        "    confidence[1.0-(i)]= i * 2\n",
        "  confidence[0.0] = 0.1\n",
        "  confidence[1.0] = 1.0\n",
        "  confidence = dict(sorted(confidence.items()))\n",
        "\n",
        "  return confidence\n",
        "\n",
        "def coordinates(distance,x_dir,y_dir,cur_x_cor,cur_y_cor):\n",
        "  if (distance >= 215 ):\n",
        "    distance -= 215\n",
        "    conf = distance / 155 \n",
        "    if (conf > 0.5):\n",
        "      conf = 1.0\n",
        "    img_cor = (cur_x_cor + (2*x_dir), cur_y_cor + (2*y_dir))\n",
        "  elif (distance >= 152.5 and distance < 215):\n",
        "    distance -= 152.5\n",
        "    conf = distance / 62.5 \n",
        "    img_cor = (cur_x_cor + (3*x_dir) , cur_y_cor + (3*y_dir))\n",
        "  elif (distance >= 126 and distance < 152.5):\n",
        "    distance -= 126\n",
        "    conf = distance / 26.5 \n",
        "    img_cor = (cur_x_cor + (4*x_dir) , cur_y_cor + (4*y_dir))\n",
        "  elif (distance >= 102.5 and distance < 126):\n",
        "    distance -= 102.5\n",
        "    conf = distance / 23.5 \n",
        "    img_cor = (cur_x_cor + (5*x_dir) , cur_y_cor + (5*y_dir))\n",
        "  elif (distance >= 88 and distance < 102.5):\n",
        "    distance -= 88\n",
        "    conf = distance / 14.5 \n",
        "    img_cor = (cur_x_cor + (6*x_dir) , cur_y_cor + (6*y_dir))\n",
        "  else:\n",
        "    print(\"Distance: \" + str(distance) + \". Image too far.\")\n",
        "    conf = 0.0\n",
        "    img_cor = (cur_x_cor + (6*x_dir) , cur_y_cor + (6*y_dir))\n",
        "  if (img_cor[0]<0):\n",
        "    img_cor = (0,img_cor[1])\n",
        "  elif (img_cor[0]>14):\n",
        "    img_cor = (14,img_cor[1])\n",
        "  if (img_cor[1]<0):\n",
        "    img_cor = (img_cor[0],0)\n",
        "  elif (img_cor[1]>19):\n",
        "    img_cor = (img_cor[0],19)\n",
        "\n",
        "  return (img_cor,conf)\n",
        "\n",
        "def main(box_len,img_symb,dir,x,y):\n",
        "  distance =  int(round(box_len))\n",
        "  print(\"Distance: \",distance)\n",
        "  \n",
        "  if (dir == 'straight'):\n",
        "    (img_cor,conf) = coordinates(distance, -1, 0, x, y)\n",
        "  elif (dir == 'right'):\n",
        "    (img_cor,conf) = coordinates(distance, 0, 1, x, y)\n",
        "  elif (dir == 'left'):\n",
        "    (img_cor,conf) = coordinates(distance, 0, -1, x, y)\n",
        "  elif (dir == 'backward'):\n",
        "    (img_cor,conf) = coordinates(distance, 1, 0, x, y)\n",
        "\n",
        "  print(\"Image Coordinates: \",img_cor)\n",
        "\n",
        "\n",
        "  conf_lookup = conf_init()\n",
        "\n",
        "  confidence = round(conf,1)\n",
        "  try:\n",
        "    for key in symb_confidence[img_symb]:\n",
        "      alr_conf = key\n",
        "    if (alr_conf<confidence):\n",
        "      symb_confidence[img_symb] = {conf_lookup[confidence] : img_cor}\n",
        "  except:\n",
        "      symb_confidence[img_symb] = {conf_lookup[confidence] : img_cor}\n",
        "\n",
        "  print(symb_confidence)"
      ],
      "execution_count": 45,
      "outputs": []
    },
    {
      "cell_type": "code",
      "metadata": {
        "id": "JMpHTHHCA2ia",
        "colab": {
          "base_uri": "https://localhost:8080/"
        },
        "outputId": "2eeb60cc-3812-4689-dc36-fdf05f19e0c9"
      },
      "source": [
        "symb_confidence = {}\n",
        "main(box_len = 260,img_symb = 6,dir = 'straight',x=5,y=3)\n"
      ],
      "execution_count": 58,
      "outputs": [
        {
          "output_type": "stream",
          "text": [
            "Distance:  260\n",
            "Image Coordinates:  (3, 3)\n",
            "{6: {0.6: (3, 3)}}\n"
          ],
          "name": "stdout"
        }
      ]
    },
    {
      "cell_type": "code",
      "metadata": {
        "id": "WA-W_mzuDgS0",
        "colab": {
          "base_uri": "https://localhost:8080/"
        },
        "outputId": "eebdf579-6f99-4092-d6f1-73c6fdb3cdd2"
      },
      "source": [
        "main(box_len = 250,img_symb = 6,dir = 'straight',x=2,y=3)\n"
      ],
      "execution_count": 51,
      "outputs": [
        {
          "output_type": "stream",
          "text": [
            "Distance:  250\n",
            "Image Coordinates:  (2, 5)\n",
            "{6: {0.6: (2, 5)}}\n"
          ],
          "name": "stdout"
        }
      ]
    },
    {
      "cell_type": "code",
      "metadata": {
        "id": "4QMGberCeq7t"
      },
      "source": [
        ""
      ],
      "execution_count": 58,
      "outputs": []
    },
    {
      "cell_type": "code",
      "metadata": {
        "id": "jmkNW-LUOite"
      },
      "source": [
        "def coordinates(distance,x_dir,y_dir,cur_x_cor,cur_y_cor):\n",
        "  if (distance >= 215 ):\n",
        "    distance -= 215\n",
        "    conf = distance / 155 \n",
        "    if (conf > 0.5):\n",
        "      conf = 1.0\n",
        "    img_cor = (cur_x_cor + (2*x_dir), cur_y_cor + (2*y_dir))\n",
        "  elif (distance >= 152.5 and distance < 215):\n",
        "    distance -= 152.5\n",
        "    conf = distance / 62.5 \n",
        "    img_cor = (cur_x_cor + (3*x_dir) , cur_y_cor + (3*y_dir))\n",
        "  elif (distance >= 126 and distance < 152.5):\n",
        "    distance -= 126\n",
        "    conf = distance / 26.5 \n",
        "    img_cor = (cur_x_cor + (4*x_dir) , cur_y_cor + (4*y_dir))\n",
        "  elif (distance >= 102.5 and distance < 126):\n",
        "    distance -= 102.5\n",
        "    conf = distance / 23.5 \n",
        "    img_cor = (cur_x_cor + (5*x_dir) , cur_y_cor + (5*y_dir))\n",
        "  elif (distance >= 88 and distance < 102.5):\n",
        "    distance -= 88\n",
        "    conf = distance / 14.5 \n",
        "    img_cor = (cur_x_cor + (6*x_dir) , cur_y_cor + (6*y_dir))\n",
        "  else:\n",
        "    print(\"Distance: \" + str(distance) + \". Image too far.\")\n",
        "\n",
        "  if (img_cor[0]<0):\n",
        "    img_cor = (0,img_cor[1])\n",
        "  elif (img_cor[0]>14):\n",
        "    img_cor = (14,img_cor[1])\n",
        "  if (img_cor[1]<0):\n",
        "    img_cor = (img_cor[0],0)\n",
        "  elif (img_cor[1]>19):\n",
        "    img_cor = (img_cor[0],19)\n",
        "\n",
        "  return (img_cor,conf)"
      ],
      "execution_count": 27,
      "outputs": []
    },
    {
      "cell_type": "code",
      "metadata": {
        "id": "S0Ls0GbuStl-",
        "colab": {
          "base_uri": "https://localhost:8080/"
        },
        "outputId": "55bf0269-1a78-41c3-d0a2-366ef752e322"
      },
      "source": [
        "distance = 300\n",
        "x= 5\n",
        "y=3\n",
        "\n",
        "(img_cor,conf) = coordinates(distance, -1, 0, x, y)\n",
        "print(\"Image Coordinates: \",img_cor)\n",
        "print(\"Confidence: \",round(conf,1))"
      ],
      "execution_count": 29,
      "outputs": [
        {
          "output_type": "stream",
          "text": [
            "Image Coordinates:  (3, 3)\n",
            "Confidence:  1.0\n"
          ],
          "name": "stdout"
        }
      ]
    },
    {
      "cell_type": "code",
      "metadata": {
        "id": "Wi4-4wXGSxDu"
      },
      "source": [
        ""
      ],
      "execution_count": null,
      "outputs": []
    }
  ]
}
