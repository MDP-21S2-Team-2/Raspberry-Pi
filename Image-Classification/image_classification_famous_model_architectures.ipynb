{
  "nbformat": 4,
  "nbformat_minor": 0,
  "metadata": {
    "kernelspec": {
      "name": "python3",
      "display_name": "Python 3",
      "language": "python"
    },
    "language_info": {
      "name": "python",
      "version": "3.7.6",
      "mimetype": "text/x-python",
      "codemirror_mode": {
        "name": "ipython",
        "version": 3
      },
      "pygments_lexer": "ipython3",
      "nbconvert_exporter": "python",
      "file_extension": ".py"
    },
    "colab": {
      "name": "image-classification-famous-model-architectures.ipynb",
      "provenance": [],
      "collapsed_sections": []
    },
    "accelerator": "GPU"
  },
  "cells": [
    {
      "cell_type": "code",
      "metadata": {
        "_uuid": "8f2839f25d086af736a60e9eeb907d3b93b6e0e5",
        "_cell_guid": "b1076dfc-b9ad-4769-8c92-a6c4dae69d19",
        "trusted": true,
        "id": "hopIlEr23Woi"
      },
      "source": [
        "import os\n",
        "import keras\n",
        "import cv2\n",
        "import h5py\n",
        "import matplotlib.image as mpimg\n",
        "import matplotlib.pyplot as plt\n",
        "from tensorflow.keras import regularizers\n",
        "import tensorflow as tf\n",
        "from tensorflow.keras.optimizers import RMSprop, Adam\n",
        "import numpy as np\n",
        "import random\n",
        "from   tensorflow.keras.preprocessing.image import img_to_array, load_img\n",
        "import os\n",
        "from glob import glob\n",
        "from keras.models import Model\n",
        "from keras.layers import Input, Dense, GlobalMaxPool2D, GlobalAvgPool2D, Concatenate, Multiply, Dropout, Subtract\n",
        "from keras.callbacks import ModelCheckpoint, ReduceLROnPlateau, EarlyStopping\n",
        "from keras.preprocessing import image\n",
        "from sklearn.metrics import classification_report, confusion_matrix\n",
        "from sklearn.metrics import accuracy_score"
      ],
      "execution_count": null,
      "outputs": []
    },
    {
      "cell_type": "code",
      "metadata": {
        "id": "TmZufuRb3nJU",
        "colab": {
          "base_uri": "https://localhost:8080/"
        },
        "outputId": "0b3847cb-afd9-41c5-c54c-702af49d4609"
      },
      "source": [
        "from google.colab import drive\n",
        "drive.mount('/content/drive')\n",
        "\n"
      ],
      "execution_count": null,
      "outputs": [
        {
          "output_type": "stream",
          "text": [
            "Mounted at /content/drive\n"
          ],
          "name": "stdout"
        }
      ]
    },
    {
      "cell_type": "code",
      "metadata": {
        "trusted": true,
        "id": "XHOgo0zQ3Wor"
      },
      "source": [
        "!unzip /content/drive/MyDrive/MDP/Data.zip"
      ],
      "execution_count": null,
      "outputs": []
    },
    {
      "cell_type": "code",
      "metadata": {
        "trusted": true,
        "id": "_j43Vj073Wot"
      },
      "source": [
        "!unzip \"/content/drive/MyDrive/MDP/test_final.zip\""
      ],
      "execution_count": null,
      "outputs": []
    },
    {
      "cell_type": "code",
      "metadata": {
        "trusted": true,
        "id": "r2c5aORT3Wou",
        "colab": {
          "base_uri": "https://localhost:8080/"
        },
        "outputId": "a04c6169-4dc0-423c-9bb1-452baf89be41"
      },
      "source": [
        "from tensorflow.keras.preprocessing.image import ImageDataGenerator\n",
        "\n",
        "IMAGE_SIZE = (640, 480)\n",
        "Input_Size = (640, 480,3)\n",
        "BATCH_SIZE = 16\n",
        "SEED = 0\n",
        "\n",
        "def get_set():\n",
        "    train_path = '/content/Data'\n",
        "    test_path = \"/content/test_final\"\n",
        "    train_gen = ImageDataGenerator(rescale=1./255, validation_split=0.2)\n",
        "    train_set = train_gen.flow_from_directory(train_path, target_size=IMAGE_SIZE, \\\n",
        "                                              batch_size=BATCH_SIZE, seed=SEED, \\\n",
        "                                              subset='training',\n",
        "                                            shuffle = False)\n",
        "    val_set = train_gen.flow_from_directory(train_path, target_size=IMAGE_SIZE, \\\n",
        "                                            batch_size=BATCH_SIZE, seed=SEED, \\\n",
        "                                            subset='validation',\n",
        "                                            shuffle = False)\n",
        "\n",
        "    test_gen = ImageDataGenerator(rescale=1./255)\n",
        "    test_set = train_gen.flow_from_directory(test_path, target_size=IMAGE_SIZE, \\\n",
        "                                             batch_size=BATCH_SIZE, seed=SEED,\n",
        "                                            shuffle = False)\n",
        "    \n",
        "    return train_set, val_set, test_set\n",
        "\n",
        "train_set, val_set, test_set = get_set()\n"
      ],
      "execution_count": null,
      "outputs": [
        {
          "output_type": "stream",
          "text": [
            "Found 600 images belonging to 15 classes.\n",
            "Found 150 images belonging to 15 classes.\n",
            "Found 125 images belonging to 15 classes.\n"
          ],
          "name": "stdout"
        }
      ]
    },
    {
      "cell_type": "code",
      "metadata": {
        "id": "AscnHYSn8WU0"
      },
      "source": [
        ""
      ],
      "execution_count": null,
      "outputs": []
    },
    {
      "cell_type": "code",
      "metadata": {
        "id": "OjSYss5UC5Oq"
      },
      "source": [
        "model = tf.keras.models.Sequential([\n",
        "\n",
        "tf.keras.layers.Conv2D(16, (3,3), activation='relu',padding = 'same', input_shape=Input_Size),\n",
        "#tf.keras.layers.MaxPooling2D(2, 2),\n",
        "\n",
        "tf.keras.layers.Conv2D(32, (3,3), activation='relu'),\n",
        "tf.keras.layers.MaxPooling2D(2,2),\n",
        "\n",
        "tf.keras.layers.Conv2D(64, (3,3), activation='relu'),\n",
        "tf.keras.layers.MaxPooling2D(2,2),\n",
        "\n",
        "tf.keras.layers.Conv2D(64, (3,3), activation='relu'),\n",
        "tf.keras.layers.MaxPooling2D(2,2),\n",
        "\n",
        "tf.keras.layers.Conv2D(128, (3,3), activation='relu'),\n",
        "tf.keras.layers.MaxPooling2D(2,2),\n",
        "\n",
        "tf.keras.layers.Flatten(),\n",
        "\n",
        "tf.keras.layers.Dense(1024, activation='relu'),\n",
        "tf.keras.layers.Dropout(0.01),\n",
        "tf.keras.layers.Dense(512, activation='relu',kernel_regularizer=regularizers.l2(0.01)),\n",
        "tf.keras.layers.Dropout(0.01),\n",
        "tf.keras.layers.Dense(128, activation='relu'),\n",
        "tf.keras.layers.Dense(32, activation='relu'),\n",
        "\n",
        "tf.keras.layers.Dense(15, activation='softmax')\n",
        "])\n",
        "model.compile(loss='categorical_crossentropy',\n",
        "          optimizer='adam',\n",
        "          metrics=['accuracy'])\n",
        "\n"
      ],
      "execution_count": null,
      "outputs": []
    },
    {
      "cell_type": "code",
      "metadata": {
        "id": "4hxfj2gTDA0-"
      },
      "source": [
        "model.summary()"
      ],
      "execution_count": null,
      "outputs": []
    },
    {
      "cell_type": "code",
      "metadata": {
        "trusted": true,
        "id": "5dxJsO9A3Wou"
      },
      "source": [
        "file_path = \"./Final1.h5\"\n",
        "checkpoint = ModelCheckpoint(file_path, monitor='val_accuracy', verbose=1, save_best_only=True, mode='max')\n",
        "reduce_on_plateau = ReduceLROnPlateau(monitor=\"loss\", mode=\"min\", factor=0.1, patience=5, verbose=1)\n",
        "es = EarlyStopping(monitor='val_accuracy', mode='max', verbose=1, patience=8)\n",
        "callbacks_list = [ checkpoint, reduce_on_plateau, es]\n",
        "\n",
        "curr_model_hist = model.fit(\n",
        "      train_set,\n",
        "      callbacks=callbacks_list,\n",
        "      epochs=500,\n",
        "      validation_data=val_set,\n",
        "      verbose=1)"
      ],
      "execution_count": null,
      "outputs": []
    },
    {
      "cell_type": "code",
      "metadata": {
        "trusted": true,
        "id": "ySimgdpU3Wov",
        "colab": {
          "base_uri": "https://localhost:8080/",
          "height": 573
        },
        "outputId": "45c368d1-56a5-4b0b-e618-c1496fc3146d"
      },
      "source": [
        "import matplotlib.pyplot as plt\n",
        "def plot_accuracy(y):\n",
        "    if(y == True):\n",
        "        plt.plot(curr_model_hist.history['accuracy'])\n",
        "        plt.plot(curr_model_hist.history['val_accuracy'])\n",
        "        plt.legend(['train', 'validation'], loc='lower right')\n",
        "        plt.title('Accuracy plot - train vs validation')\n",
        "        plt.xlabel('epoch')\n",
        "        plt.ylabel('accuracy')\n",
        "        plt.show()\n",
        "    else:\n",
        "        pass\n",
        "    return\n",
        "\n",
        "def plot_loss(y):\n",
        "    if(y == True):\n",
        "        plt.plot(curr_model_hist.history['loss'])\n",
        "        plt.plot(curr_model_hist.history['val_loss'])\n",
        "        plt.legend(['training', 'validation'], loc = 'upper right')\n",
        "        plt.title('Loss plot - train vs vaidation')\n",
        "        plt.xlabel('epoch')\n",
        "        plt.ylabel('loss')\n",
        "        plt.show()\n",
        "    else:\n",
        "        pass\n",
        "    return\n",
        "\n",
        "\n",
        "plot_accuracy(True)\n",
        "plot_loss(True)"
      ],
      "execution_count": null,
      "outputs": [
        {
          "output_type": "display_data",
          "data": {
            "image/png": "[encoded data removed]",
            "text/plain": [
              "<Figure size 432x288 with 1 Axes>"
            ]
          },
          "metadata": {
            "tags": [],
            "needs_background": "light"
          }
        },
        {
          "output_type": "display_data",
          "data": {
            "image/png": "[encoded data removed]",
            "text/plain": [
              "<Figure size 432x288 with 1 Axes>"
            ]
          },
          "metadata": {
            "tags": [],
            "needs_background": "light"
          }
        }
      ]
    },
    {
      "cell_type": "code",
      "metadata": {
        "trusted": true,
        "id": "Jf5hI-lW3Wow",
        "colab": {
          "base_uri": "https://localhost:8080/",
          "height": 181
        },
        "outputId": "d0355549-4c31-41be-8f8c-aad58843b36c"
      },
      "source": [
        "lossandacc = model.evaluate_generator(test_set,verbose=1)\n",
        "print(lossandacc)"
      ],
      "execution_count": null,
      "outputs": [
        {
          "output_type": "error",
          "ename": "NameError",
          "evalue": "ignored",
          "traceback": [
            "\u001b[0;31m---------------------------------------------------------------------------\u001b[0m",
            "\u001b[0;31mNameError\u001b[0m                                 Traceback (most recent call last)",
            "\u001b[0;32m<ipython-input-20-34cacf7f52fe>\u001b[0m in \u001b[0;36m<module>\u001b[0;34m()\u001b[0m\n\u001b[0;32m----> 1\u001b[0;31m \u001b[0mlossandacc\u001b[0m \u001b[0;34m=\u001b[0m \u001b[0mmodel\u001b[0m\u001b[0;34m.\u001b[0m\u001b[0mevaluate_generator\u001b[0m\u001b[0;34m(\u001b[0m\u001b[0mtest_generator\u001b[0m\u001b[0;34m,\u001b[0m\u001b[0mverbose\u001b[0m\u001b[0;34m=\u001b[0m\u001b[0;36m1\u001b[0m\u001b[0;34m)\u001b[0m\u001b[0;34m\u001b[0m\u001b[0;34m\u001b[0m\u001b[0m\n\u001b[0m\u001b[1;32m      2\u001b[0m \u001b[0mprint\u001b[0m\u001b[0;34m(\u001b[0m\u001b[0mlossandacc\u001b[0m\u001b[0;34m)\u001b[0m\u001b[0;34m\u001b[0m\u001b[0;34m\u001b[0m\u001b[0m\n",
            "\u001b[0;31mNameError\u001b[0m: name 'test_generator' is not defined"
          ]
        }
      ]
    },
    {
      "cell_type": "markdown",
      "metadata": {
        "id": "zJumHtjN3Wow"
      },
      "source": [
        "# Initializing Model Architectures \n",
        "## Included imagenet weights "
      ]
    },
    {
      "cell_type": "code",
      "metadata": {
        "id": "7iA3lm0cpdRa"
      },
      "source": [
        ""
      ],
      "execution_count": null,
      "outputs": []
    },
    {
      "cell_type": "markdown",
      "metadata": {
        "id": "qyQxjdCX3Wox"
      },
      "source": [
        "# Training using MobileNetV2"
      ]
    },
    {
      "cell_type": "code",
      "metadata": {
        "trusted": true,
        "id": "5YTsrOPv3Wox"
      },
      "source": [
        "from tensorflow.keras.applications import MobileNetV2\n",
        "from tensorflow.keras.layers import Dense\n",
        "from tensorflow.keras.models import Model\n",
        "\n",
        "def get_model():\n",
        "    base = MobileNetV2(input_shape=(224,224,3), include_top=False, \\\n",
        "                       pooling='max'\n",
        "                       , weights='imagenet'\n",
        "                       )\n",
        "    base.trainable = False\n",
        "\n",
        "    first = Dense(512, activation='relu',kernel_regularizer=regularizers.l2(0.01))(base.output)\n",
        "\n",
        "    second = Dropout(0.01)(first)\n",
        "    third = Dense(128, activation='relu')(second)\n",
        "    final = Dense(32, activation='relu')(third)\n",
        "\n",
        "    \n",
        "    dense = Dense(15, activation='softmax', name='dense')(final)\n",
        "\n",
        "    model = Model(inputs=base.inputs, outputs=dense, name='mobilenetv2')\n",
        "    model.compile(loss='categorical_crossentropy',\n",
        "          optimizer=Adam(lr=0.0001),\n",
        "          metrics=['acc'])\n",
        "    return model\n",
        "\n",
        "mobilenet = get_model()\n",
        "\n",
        "file_path = './mobilenet.h5'\n",
        "checkpoint = ModelCheckpoint(file_path, monitor='val_acc', verbose=1, save_best_only=True, mode='max')\n",
        "reduce_on_plateau = ReduceLROnPlateau(monitor=\"val_loss\", mode=\"min\", factor=0.1, patience=5, verbose=1)\n",
        "es = EarlyStopping(monitor='val_acc', mode='max', verbose=1, patience=15)\n",
        "callbacks_list = [ checkpoint, reduce_on_plateau, es]\n",
        "hist = mobilenet.fit(train_set,\n",
        "      callbacks=callbacks_list,\n",
        "      epochs=100,\n",
        "      validation_data=val_set,\n",
        "      verbose=1)"
      ],
      "execution_count": null,
      "outputs": []
    },
    {
      "cell_type": "code",
      "metadata": {
        "id": "ce2B4HqaxGgt"
      },
      "source": [
        ""
      ],
      "execution_count": null,
      "outputs": []
    },
    {
      "cell_type": "code",
      "metadata": {
        "trusted": true,
        "id": "zYH_6-XG3Woy",
        "outputId": "ddadc8e0-e789-4dbb-ffa1-1036272d5f56"
      },
      "source": [
        "lossandacc = mobilenet.evaluate_generator(test_generator,verbose=1)\n",
        "print(lossandacc)"
      ],
      "execution_count": null,
      "outputs": [
        {
          "output_type": "stream",
          "text": [
            "32/32 [==============================] - 7s 228ms/step - loss: 0.4004 - acc: 0.8730\n",
            "[0.4003580794669688, 0.873]\n"
          ],
          "name": "stdout"
        }
      ]
    },
    {
      "cell_type": "markdown",
      "metadata": {
        "id": "o8reGU-w3Woz"
      },
      "source": [
        "# Training using InceptionResNetV2"
      ]
    },
    {
      "cell_type": "code",
      "metadata": {
        "trusted": true,
        "id": "g6wnI-Sm3Woz",
        "colab": {
          "base_uri": "https://localhost:8080/"
        },
        "outputId": "7e1f604e-0156-4a00-e061-44dacd9ce1d0"
      },
      "source": [
        "\n",
        "from tensorflow.keras.applications import InceptionResNetV2\n",
        "from tensorflow.keras.layers import Dense\n",
        "from tensorflow.keras.models import Model\n",
        "\n",
        "def get_model():\n",
        "    base = InceptionResNetV2(input_shape=Input_Size, include_top=False, \\\n",
        "                       pooling='max', weights='imagenet')\n",
        "    base.trainable = True\n",
        "    first = Dense(512, activation='relu',kernel_regularizer=regularizers.l2(0.01))(base.output)\n",
        "\n",
        "    second = Dropout(0.01)(first)\n",
        "    third = Dense(128, activation='relu')(second)\n",
        "    final = Dense(32, activation='relu')(third)\n",
        "\n",
        "    \n",
        "    cool_dense = Dense(15, activation='softmax', name='cool_dense')(final)\n",
        "\n",
        "    model = Model(inputs=base.inputs, outputs=cool_dense, name='mobilenetv2')\n",
        "    model.compile(loss='categorical_crossentropy',\n",
        "          optimizer=Adam(lr=0.0001),\n",
        "          metrics=['acc'])\n",
        "    return model\n",
        "\n",
        "InceptionResNetV2 = get_model()\n",
        "\n",
        "file_path = './InceptionResNetV2.h5'\n",
        "checkpoint = ModelCheckpoint(file_path, monitor='val_acc', verbose=1, save_best_only=True, mode='max')\n",
        "reduce_on_plateau = ReduceLROnPlateau(monitor=\"val_loss\", mode=\"min\", factor=0.1, patience=5, verbose=1)\n",
        "es = EarlyStopping(monitor='val_acc', mode='max', verbose=1, patience=15)\n",
        "callbacks_list = [ checkpoint, reduce_on_plateau, es]\n",
        "\n",
        "hist = InceptionResNetV2.fit(train_set,\n",
        "      callbacks=callbacks_list,\n",
        "      epochs=500,\n",
        "      validation_data=val_set,\n",
        "      verbose=1)\n"
      ],
      "execution_count": null,
      "outputs": [
        {
          "output_type": "stream",
          "text": [
            "Epoch 1/500\n",
            "38/38 [==============================] - 96s 2s/step - loss: 11.6337 - acc: 0.0234 - val_loss: 10.0123 - val_acc: 0.0533\n",
            "\n",
            "Epoch 00001: val_acc improved from -inf to 0.05333, saving model to ./InceptionResNetV2.h5\n",
            "Epoch 2/500\n",
            "38/38 [==============================] - 73s 2s/step - loss: 9.9060 - acc: 0.0753 - val_loss: 9.6807 - val_acc: 0.0533\n",
            "\n",
            "Epoch 00002: val_acc did not improve from 0.05333\n",
            "Epoch 3/500\n",
            "38/38 [==============================] - 74s 2s/step - loss: 9.5694 - acc: 0.0843 - val_loss: 9.4017 - val_acc: 0.0667\n",
            "\n",
            "Epoch 00003: val_acc improved from 0.05333 to 0.06667, saving model to ./InceptionResNetV2.h5\n",
            "Epoch 4/500\n",
            "38/38 [==============================] - 75s 2s/step - loss: 9.3618 - acc: 0.0502 - val_loss: 9.0767 - val_acc: 0.0933\n",
            "\n",
            "Epoch 00004: val_acc improved from 0.06667 to 0.09333, saving model to ./InceptionResNetV2.h5\n",
            "Epoch 5/500\n",
            "38/38 [==============================] - 75s 2s/step - loss: 8.9909 - acc: 0.1590 - val_loss: 8.4318 - val_acc: 0.2600\n",
            "\n",
            "Epoch 00005: val_acc improved from 0.09333 to 0.26000, saving model to ./InceptionResNetV2.h5\n",
            "Epoch 6/500\n",
            "38/38 [==============================] - 75s 2s/step - loss: 8.4205 - acc: 0.2891 - val_loss: 7.7779 - val_acc: 0.4667\n",
            "\n",
            "Epoch 00006: val_acc improved from 0.26000 to 0.46667, saving model to ./InceptionResNetV2.h5\n",
            "Epoch 7/500\n",
            "38/38 [==============================] - 76s 2s/step - loss: 7.9122 - acc: 0.3855 - val_loss: 7.3418 - val_acc: 0.6200\n",
            "\n",
            "Epoch 00007: val_acc improved from 0.46667 to 0.62000, saving model to ./InceptionResNetV2.h5\n",
            "Epoch 8/500\n",
            "38/38 [==============================] - 76s 2s/step - loss: 7.3401 - acc: 0.4350 - val_loss: 6.3806 - val_acc: 0.8600\n",
            "\n",
            "Epoch 00008: val_acc improved from 0.62000 to 0.86000, saving model to ./InceptionResNetV2.h5\n",
            "Epoch 9/500\n",
            "38/38 [==============================] - 75s 2s/step - loss: 6.2786 - acc: 0.7876 - val_loss: 5.9431 - val_acc: 0.8133\n",
            "\n",
            "Epoch 00009: val_acc did not improve from 0.86000\n",
            "Epoch 10/500\n",
            "38/38 [==============================] - 76s 2s/step - loss: 6.2769 - acc: 0.7385 - val_loss: 5.5578 - val_acc: 0.9267\n",
            "\n",
            "Epoch 00010: val_acc improved from 0.86000 to 0.92667, saving model to ./InceptionResNetV2.h5\n",
            "Epoch 11/500\n",
            "38/38 [==============================] - 75s 2s/step - loss: 5.6643 - acc: 0.9051 - val_loss: 5.3827 - val_acc: 0.9467\n",
            "\n",
            "Epoch 00011: val_acc improved from 0.92667 to 0.94667, saving model to ./InceptionResNetV2.h5\n",
            "Epoch 12/500\n",
            "38/38 [==============================] - 75s 2s/step - loss: 5.4263 - acc: 0.9145 - val_loss: 5.2230 - val_acc: 0.9333\n",
            "\n",
            "Epoch 00012: val_acc did not improve from 0.94667\n",
            "Epoch 13/500\n",
            "38/38 [==============================] - 76s 2s/step - loss: 5.3212 - acc: 0.9028 - val_loss: 5.1529 - val_acc: 0.8933\n",
            "\n",
            "Epoch 00013: val_acc did not improve from 0.94667\n",
            "Epoch 14/500\n",
            "38/38 [==============================] - 76s 2s/step - loss: 5.1396 - acc: 0.9316 - val_loss: 4.9379 - val_acc: 1.0000\n",
            "\n",
            "Epoch 00014: val_acc improved from 0.94667 to 1.00000, saving model to ./InceptionResNetV2.h5\n",
            "Epoch 15/500\n",
            "38/38 [==============================] - 76s 2s/step - loss: 4.9477 - acc: 0.9935 - val_loss: 4.8674 - val_acc: 0.9667\n",
            "\n",
            "Epoch 00015: val_acc did not improve from 1.00000\n",
            "Epoch 16/500\n",
            "38/38 [==============================] - 76s 2s/step - loss: 4.8220 - acc: 0.9833 - val_loss: 4.7070 - val_acc: 1.0000\n",
            "\n",
            "Epoch 00016: val_acc did not improve from 1.00000\n",
            "Epoch 17/500\n",
            "38/38 [==============================] - 76s 2s/step - loss: 4.6810 - acc: 1.0000 - val_loss: 4.6030 - val_acc: 1.0000\n",
            "\n",
            "Epoch 00017: val_acc did not improve from 1.00000\n",
            "Epoch 18/500\n",
            "38/38 [==============================] - 76s 2s/step - loss: 4.5802 - acc: 1.0000 - val_loss: 4.5054 - val_acc: 1.0000\n",
            "\n",
            "Epoch 00018: val_acc did not improve from 1.00000\n",
            "Epoch 19/500\n",
            "38/38 [==============================] - 76s 2s/step - loss: 4.4825 - acc: 1.0000 - val_loss: 4.4099 - val_acc: 1.0000\n",
            "\n",
            "Epoch 00019: val_acc did not improve from 1.00000\n",
            "Epoch 20/500\n",
            "38/38 [==============================] - 76s 2s/step - loss: 4.3873 - acc: 1.0000 - val_loss: 4.3163 - val_acc: 1.0000\n",
            "\n",
            "Epoch 00020: val_acc did not improve from 1.00000\n",
            "Epoch 21/500\n",
            "38/38 [==============================] - 76s 2s/step - loss: 4.2937 - acc: 1.0000 - val_loss: 4.2245 - val_acc: 1.0000\n",
            "\n",
            "Epoch 00021: val_acc did not improve from 1.00000\n",
            "Epoch 22/500\n",
            "38/38 [==============================] - 76s 2s/step - loss: 4.2023 - acc: 1.0000 - val_loss: 4.1341 - val_acc: 1.0000\n",
            "\n",
            "Epoch 00022: val_acc did not improve from 1.00000\n",
            "Epoch 23/500\n",
            "38/38 [==============================] - 76s 2s/step - loss: 4.1124 - acc: 1.0000 - val_loss: 4.0453 - val_acc: 1.0000\n",
            "\n",
            "Epoch 00023: val_acc did not improve from 1.00000\n",
            "Epoch 24/500\n",
            "38/38 [==============================] - 76s 2s/step - loss: 4.0239 - acc: 1.0000 - val_loss: 3.9580 - val_acc: 1.0000\n",
            "\n",
            "Epoch 00024: val_acc did not improve from 1.00000\n",
            "Epoch 25/500\n",
            "38/38 [==============================] - 76s 2s/step - loss: 3.9367 - acc: 1.0000 - val_loss: 3.8719 - val_acc: 1.0000\n",
            "\n",
            "Epoch 00025: val_acc did not improve from 1.00000\n",
            "Epoch 26/500\n",
            "38/38 [==============================] - 76s 2s/step - loss: 3.8509 - acc: 1.0000 - val_loss: 3.7872 - val_acc: 1.0000\n",
            "\n",
            "Epoch 00026: val_acc did not improve from 1.00000\n",
            "Epoch 27/500\n",
            "38/38 [==============================] - 76s 2s/step - loss: 3.7665 - acc: 1.0000 - val_loss: 3.7037 - val_acc: 1.0000\n",
            "\n",
            "Epoch 00027: val_acc did not improve from 1.00000\n",
            "Epoch 28/500\n",
            "24/38 [=================>............] - ETA: 25s - loss: 3.6913 - acc: 1.0000"
          ],
          "name": "stdout"
        }
      ]
    },
    {
      "cell_type": "code",
      "metadata": {
        "id": "Jkjp7WzFWRta"
      },
      "source": [
        "Incep1 = get_model()\n",
        "Incep1.load_weights('/content/drive/MyDrive/MDP/InceptionResNetV2_93.h5')\n",
        "Incep2 = get_model()\n",
        "Incep2.load_weights('/content/drive/MyDrive/MDP/InceptionResNetV2_90.h5')"
      ],
      "execution_count": null,
      "outputs": []
    },
    {
      "cell_type": "code",
      "metadata": {
        "id": "lkh1fNq_WRV_"
      },
      "source": [
        ""
      ],
      "execution_count": null,
      "outputs": []
    },
    {
      "cell_type": "code",
      "metadata": {
        "trusted": true,
        "id": "F1PIWqFM3Woz",
        "colab": {
          "base_uri": "https://localhost:8080/"
        },
        "outputId": "1ef8f7b5-c4e8-4eaa-c9b9-a6aa2dc3f748"
      },
      "source": [
        "lossandacc = InceptionResNetV2.evaluate_generator(test_set,verbose=1)\n",
        "print(lossandacc)"
      ],
      "execution_count": null,
      "outputs": [
        {
          "output_type": "stream",
          "text": [
            "/usr/local/lib/python3.6/dist-packages/tensorflow/python/keras/engine/training.py:1877: UserWarning: `Model.evaluate_generator` is deprecated and will be removed in a future version. Please use `Model.evaluate`, which supports generators.\n",
            "  warnings.warn('`Model.evaluate_generator` is deprecated and '\n"
          ],
          "name": "stderr"
        },
        {
          "output_type": "stream",
          "text": [
            "4/4 [==============================] - 3s 653ms/step - loss: 4.6159 - acc: 0.9120\n",
            "[4.6158528327941895, 0.9120000004768372]\n"
          ],
          "name": "stdout"
        }
      ]
    },
    {
      "cell_type": "code",
      "metadata": {
        "id": "-INHNi5mBHWv"
      },
      "source": [
        "def acc_cal(sample, leng):\n",
        "  BATCH_SIZE = 32\n",
        "  Y_pred1 = Incep1.predict_generator(sample, leng // BATCH_SIZE+1)\n",
        "  Y_pred2 = Incep2.predict_generator(sample, leng // BATCH_SIZE+1)\n",
        "  Y_pred = (Y_pred2 + Y_pred1)/2\n",
        "  y_pred = np.argmax(Y_pred, axis=1)\n",
        "  print('Confusion Matrix')\n",
        "  conf = confusion_matrix(sample.classes, y_pred)\n",
        "  print(accuracy_score(sample.classes, y_pred))\n",
        "  print(conf)\n",
        "acc_cal(val_set,150)"
      ],
      "execution_count": null,
      "outputs": []
    },
    {
      "cell_type": "code",
      "metadata": {
        "id": "oFw_H5E8HdGI"
      },
      "source": [
        "from IPython.display import display, Javascript\n",
        "from google.colab.output import eval_js\n",
        "from base64 import b64decode\n",
        "\n",
        "def take_photo(filename='photo.jpg', quality=0.8):\n",
        "  js = Javascript('''\n",
        "    async function takePhoto(quality) {\n",
        "      const div = document.createElement('div');\n",
        "      const capture = document.createElement('button');\n",
        "      capture.textContent = 'Capture';\n",
        "      div.appendChild(capture);\n",
        "\n",
        "      const video = document.createElement('video');\n",
        "      video.style.display = 'block';\n",
        "      const stream = await navigator.mediaDevices.getUserMedia({video: true});\n",
        "\n",
        "      document.body.appendChild(div);\n",
        "      div.appendChild(video);\n",
        "      video.srcObject = stream;\n",
        "      await video.play();\n",
        "\n",
        "      // Resize the output to fit the video element.\n",
        "      google.colab.output.setIframeHeight(document.documentElement.scrollHeight, true);\n",
        "\n",
        "      // Wait for Capture to be clicked.\n",
        "      await new Promise((resolve) => capture.onclick = resolve);\n",
        "\n",
        "      const canvas = document.createElement('canvas');\n",
        "      canvas.width = video.videoWidth;\n",
        "      canvas.height = video.videoHeight;\n",
        "      canvas.getContext('2d').drawImage(video, 0, 0);\n",
        "      stream.getVideoTracks()[0].stop();\n",
        "      div.remove();\n",
        "      return canvas.toDataURL('image/jpeg', quality);\n",
        "    }\n",
        "    ''')\n",
        "  display(js)\n",
        "  data = eval_js('takePhoto({})'.format(quality))\n",
        "  binary = b64decode(data.split(',')[1])\n",
        "  with open(filename, 'wb') as f:\n",
        "    f.write(binary)\n",
        "  return filename"
      ],
      "execution_count": null,
      "outputs": []
    },
    {
      "cell_type": "code",
      "metadata": {
        "colab": {
          "base_uri": "https://localhost:8080/",
          "height": 514
        },
        "id": "Chau35UkHdGL",
        "outputId": "a12e38f5-d12a-4db5-f44c-86eb63671275"
      },
      "source": [
        "from IPython.display import Image\n",
        "try:\n",
        "  filename = take_photo()\n",
        "  print('Saved to {}'.format(filename))\n",
        "  \n",
        "  # Show the image which was just taken.\n",
        "  display(Image(filename))\n",
        "except Exception as err:\n",
        "  # Errors will be thrown if the user does not have a webcam or if they do not\n",
        "  # grant the page permission to access it.\n",
        "  print(str(err))"
      ],
      "execution_count": null,
      "outputs": [
        {
          "output_type": "display_data",
          "data": {
            "application/javascript": [
              "\n",
              "    async function takePhoto(quality) {\n",
              "      const div = document.createElement('div');\n",
              "      const capture = document.createElement('button');\n",
              "      capture.textContent = 'Capture';\n",
              "      div.appendChild(capture);\n",
              "\n",
              "      const video = document.createElement('video');\n",
              "      video.style.display = 'block';\n",
              "      const stream = await navigator.mediaDevices.getUserMedia({video: true});\n",
              "\n",
              "      document.body.appendChild(div);\n",
              "      div.appendChild(video);\n",
              "      video.srcObject = stream;\n",
              "      await video.play();\n",
              "\n",
              "      // Resize the output to fit the video element.\n",
              "      google.colab.output.setIframeHeight(document.documentElement.scrollHeight, true);\n",
              "\n",
              "      // Wait for Capture to be clicked.\n",
              "      await new Promise((resolve) => capture.onclick = resolve);\n",
              "\n",
              "      const canvas = document.createElement('canvas');\n",
              "      canvas.width = video.videoWidth;\n",
              "      canvas.height = video.videoHeight;\n",
              "      canvas.getContext('2d').drawImage(video, 0, 0);\n",
              "      stream.getVideoTracks()[0].stop();\n",
              "      div.remove();\n",
              "      return canvas.toDataURL('image/jpeg', quality);\n",
              "    }\n",
              "    "
            ],
            "text/plain": [
              "<IPython.core.display.Javascript object>"
            ]
          },
          "metadata": {
            "tags": []
          }
        },
        {
          "output_type": "stream",
          "text": [
            "Saved to photo.jpg\n"
          ],
          "name": "stdout"
        },
        {
          "output_type": "display_data",
          "data": {
            "image/jpeg": "[encoded data removed]",
            "text/plain": [
              "<IPython.core.display.Image object>"
            ]
          },
          "metadata": {
            "tags": []
          }
        }
      ]
    },
    {
      "cell_type": "code",
      "metadata": {
        "colab": {
          "base_uri": "https://localhost:8080/"
        },
        "id": "6O12PIsyC050",
        "outputId": "642f2429-0ce4-4dba-a022-0fd0db6e7262"
      },
      "source": [
        "Y_pred1 = Incep1.predict_generator(val_set, 150 // BATCH_SIZE+1)\n",
        "Y_pred2 = Incep2.predict_generator(val_set, 150 // BATCH_SIZE+1)"
      ],
      "execution_count": null,
      "outputs": [
        {
          "output_type": "stream",
          "text": [
            "/usr/local/lib/python3.6/dist-packages/tensorflow/python/keras/engine/training.py:1905: UserWarning: `Model.predict_generator` is deprecated and will be removed in a future version. Please use `Model.predict`, which supports generators.\n",
            "  warnings.warn('`Model.predict_generator` is deprecated and '\n"
          ],
          "name": "stderr"
        }
      ]
    },
    {
      "cell_type": "code",
      "metadata": {
        "colab": {
          "base_uri": "https://localhost:8080/",
          "height": 317
        },
        "id": "P9W6wsVYDCU6",
        "outputId": "92adcbb2-55e8-4a4f-a831-41faa450ae75"
      },
      "source": [
        "def acc_cal(lab):\n",
        "  img = cv2.imread('/content/photo.jpg', cv2.IMREAD_UNCHANGED)\n",
        "  dim = (480, 640)\n",
        "  resized = cv2.resize(img, dim, interpolation = cv2.INTER_AREA)\n",
        "  print('Resized Dimensions : ',resized.shape)\n",
        "  Y_pred1 = Incep1.predict(resized)\n",
        "  Y_pred2 = Incep2.predict(resized)\n",
        "  Y_pred = (Y_pred2 + Y_pred1)/2\n",
        "  y_pred = np.argmax(Y_pred, axis=1)\n",
        "  print('Confusion Matrix')\n",
        "  conf = confusion_matrix(lab, y_pred)\n",
        "  print(accuracy_score(lab, y_pred))\n",
        "  print(conf)\n",
        "acc_cal(7)"
      ],
      "execution_count": null,
      "outputs": [
        {
          "output_type": "error",
          "ename": "NameError",
          "evalue": "ignored",
          "traceback": [
            "\u001b[0;31m---------------------------------------------------------------------------\u001b[0m",
            "\u001b[0;31mNameError\u001b[0m                                 Traceback (most recent call last)",
            "\u001b[0;32m<ipython-input-1-9cdf1a9dc819>\u001b[0m in \u001b[0;36m<module>\u001b[0;34m()\u001b[0m\n\u001b[1;32m     12\u001b[0m   \u001b[0mprint\u001b[0m\u001b[0;34m(\u001b[0m\u001b[0maccuracy_score\u001b[0m\u001b[0;34m(\u001b[0m\u001b[0mlab\u001b[0m\u001b[0;34m,\u001b[0m \u001b[0my_pred\u001b[0m\u001b[0;34m)\u001b[0m\u001b[0;34m)\u001b[0m\u001b[0;34m\u001b[0m\u001b[0;34m\u001b[0m\u001b[0m\n\u001b[1;32m     13\u001b[0m   \u001b[0mprint\u001b[0m\u001b[0;34m(\u001b[0m\u001b[0mconf\u001b[0m\u001b[0;34m)\u001b[0m\u001b[0;34m\u001b[0m\u001b[0;34m\u001b[0m\u001b[0m\n\u001b[0;32m---> 14\u001b[0;31m \u001b[0macc_cal\u001b[0m\u001b[0;34m(\u001b[0m\u001b[0;36m7\u001b[0m\u001b[0;34m)\u001b[0m\u001b[0;34m\u001b[0m\u001b[0;34m\u001b[0m\u001b[0m\n\u001b[0m",
            "\u001b[0;32m<ipython-input-1-9cdf1a9dc819>\u001b[0m in \u001b[0;36macc_cal\u001b[0;34m(lab)\u001b[0m\n\u001b[1;32m      1\u001b[0m \u001b[0;32mdef\u001b[0m \u001b[0macc_cal\u001b[0m\u001b[0;34m(\u001b[0m\u001b[0mlab\u001b[0m\u001b[0;34m)\u001b[0m\u001b[0;34m:\u001b[0m\u001b[0;34m\u001b[0m\u001b[0;34m\u001b[0m\u001b[0m\n\u001b[0;32m----> 2\u001b[0;31m   \u001b[0mimg\u001b[0m \u001b[0;34m=\u001b[0m \u001b[0mcv2\u001b[0m\u001b[0;34m.\u001b[0m\u001b[0mimread\u001b[0m\u001b[0;34m(\u001b[0m\u001b[0;34m'/content/photo.jpg'\u001b[0m\u001b[0;34m,\u001b[0m \u001b[0mcv2\u001b[0m\u001b[0;34m.\u001b[0m\u001b[0mIMREAD_UNCHANGED\u001b[0m\u001b[0;34m)\u001b[0m\u001b[0;34m\u001b[0m\u001b[0;34m\u001b[0m\u001b[0m\n\u001b[0m\u001b[1;32m      3\u001b[0m   \u001b[0mdim\u001b[0m \u001b[0;34m=\u001b[0m \u001b[0;34m(\u001b[0m\u001b[0;36m480\u001b[0m\u001b[0;34m,\u001b[0m \u001b[0;36m640\u001b[0m\u001b[0;34m)\u001b[0m\u001b[0;34m\u001b[0m\u001b[0;34m\u001b[0m\u001b[0m\n\u001b[1;32m      4\u001b[0m   \u001b[0mresized\u001b[0m \u001b[0;34m=\u001b[0m \u001b[0mcv2\u001b[0m\u001b[0;34m.\u001b[0m\u001b[0mresize\u001b[0m\u001b[0;34m(\u001b[0m\u001b[0mimg\u001b[0m\u001b[0;34m,\u001b[0m \u001b[0mdim\u001b[0m\u001b[0;34m,\u001b[0m \u001b[0minterpolation\u001b[0m \u001b[0;34m=\u001b[0m \u001b[0mcv2\u001b[0m\u001b[0;34m.\u001b[0m\u001b[0mINTER_AREA\u001b[0m\u001b[0;34m)\u001b[0m\u001b[0;34m\u001b[0m\u001b[0;34m\u001b[0m\u001b[0m\n\u001b[1;32m      5\u001b[0m   \u001b[0mprint\u001b[0m\u001b[0;34m(\u001b[0m\u001b[0;34m'Resized Dimensions : '\u001b[0m\u001b[0;34m,\u001b[0m\u001b[0mresized\u001b[0m\u001b[0;34m.\u001b[0m\u001b[0mshape\u001b[0m\u001b[0;34m)\u001b[0m\u001b[0;34m\u001b[0m\u001b[0;34m\u001b[0m\u001b[0m\n",
            "\u001b[0;31mNameError\u001b[0m: name 'cv2' is not defined"
          ]
        }
      ]
    },
    {
      "cell_type": "code",
      "metadata": {
        "colab": {
          "base_uri": "https://localhost:8080/",
          "height": 275
        },
        "id": "W57jgH4FDebr",
        "outputId": "0f25c220-17e2-4cb3-8c5d-e58510d5657c"
      },
      "source": [
        "import cv2\n",
        "from google.colab.patches import cv2_imshow\n",
        "img = cv2.imread('/content/photo.jpg', cv2.IMREAD_UNCHANGED)\n",
        " \n",
        "print('Original Dimensions : ',img.shape)\n",
        " \n",
        "scale_percent = 60 # percent of original size\n",
        "width = int(img.shape[1] * scale_percent / 100)\n",
        "height = int(img.shape[0] * scale_percent / 100)\n",
        "dim = (224, 224)\n",
        "  \n",
        "# resize image\n",
        "resized = cv2.resize(img, dim, interpolation = cv2.INTER_AREA)\n",
        " \n",
        "print('Resized Dimensions : ',resized.shape)\n",
        " \n",
        "cv2_imshow( resized)\n",
        "# cv2.waitKey(0)\n",
        "# cv2.destroyAllWindows()"
      ],
      "execution_count": null,
      "outputs": [
        {
          "output_type": "stream",
          "text": [
            "Original Dimensions :  (480, 640, 3)\n",
            "Resized Dimensions :  (224, 224, 3)\n"
          ],
          "name": "stdout"
        },
        {
          "output_type": "display_data",
          "data": {
            "image/png": "[encoded data removed]",
            "text/plain": [
              "<PIL.Image.Image image mode=RGB size=224x224 at 0x7F7D49D32A58>"
            ]
          },
          "metadata": {
            "tags": []
          }
        }
      ]
    },
    {
      "cell_type": "markdown",
      "metadata": {
        "id": "n09f8pvQ3Wo1"
      },
      "source": [
        "# Training using ResNet152"
      ]
    },
    {
      "cell_type": "code",
      "metadata": {
        "trusted": true,
        "id": "vk97VtkD3Wo1",
        "colab": {
          "base_uri": "https://localhost:8080/"
        },
        "outputId": "94915142-592b-4582-e3f4-f6c771f42625"
      },
      "source": [
        "from tensorflow.keras.applications import ResNet152\n",
        "from tensorflow.keras.layers import Dense\n",
        "from tensorflow.keras.models import Model\n",
        "\n",
        "def get_model():\n",
        "    base = ResNet152(input_shape=(224,224,3), include_top=False, \\\n",
        "                       pooling='max', weights='imagenet')\n",
        "    base.trainable = True\n",
        "    first = Dense(512, activation='relu',kernel_regularizer=regularizers.l2(0.01))(base.output)\n",
        "\n",
        "    second = Dropout(0.01)(first)\n",
        "    third = Dense(128, activation='relu')(second)\n",
        "    final = Dense(32, activation='relu')(third)\n",
        "\n",
        "    \n",
        "    cool_dense = Dense(15, activation='softmax', name='cool_dense')(final)\n",
        "\n",
        "    model = Model(inputs=base.inputs, outputs=cool_dense, name='mobilenetv2')\n",
        "    model.compile(loss='categorical_crossentropy',\n",
        "          optimizer=Adam(lr=0.0001),\n",
        "          metrics=['acc'])\n",
        "    return model\n",
        "\n",
        "ResNet152 = get_model()\n",
        "\n",
        "file_path = './ResNet152.h5'\n",
        "checkpoint = ModelCheckpoint(file_path, monitor='val_acc', verbose=1, save_best_only=True, mode='max')\n",
        "reduce_on_plateau = ReduceLROnPlateau(monitor=\"val_loss\", mode=\"min\", factor=0.1, patience=5, verbose=1)\n",
        "es = EarlyStopping(monitor='val_acc', mode='max', verbose=1, patience=15)\n",
        "callbacks_list = [ checkpoint, reduce_on_plateau, es]\n",
        "hist = ResNet152.fit(train_set,\n",
        "      callbacks=callbacks_list,\n",
        "      epochs=100,\n",
        "      validation_data=val_set,\n",
        "      verbose=1)"
      ],
      "execution_count": null,
      "outputs": [
        {
          "output_type": "stream",
          "text": [
            "Epoch 1/100\n",
            "19/19 [==============================] - 36s 1s/step - loss: 16.5689 - acc: 0.0424 - val_loss: 11.4569 - val_acc: 0.0667\n",
            "\n",
            "Epoch 00001: val_acc improved from -inf to 0.06667, saving model to ./ResNet152.h5\n",
            "Epoch 2/100\n",
            "19/19 [==============================] - 18s 935ms/step - loss: 11.3045 - acc: 0.1120 - val_loss: 10.8918 - val_acc: 0.0600\n",
            "\n",
            "Epoch 00002: val_acc did not improve from 0.06667\n",
            "Epoch 3/100\n",
            "19/19 [==============================] - 18s 920ms/step - loss: 10.8074 - acc: 0.1528 - val_loss: 11.2419 - val_acc: 0.0667\n",
            "\n",
            "Epoch 00003: val_acc did not improve from 0.06667\n",
            "Epoch 4/100\n",
            "19/19 [==============================] - 18s 922ms/step - loss: 10.4188 - acc: 0.2064 - val_loss: 11.3130 - val_acc: 0.0667\n",
            "\n",
            "Epoch 00004: val_acc did not improve from 0.06667\n",
            "Epoch 5/100\n",
            "19/19 [==============================] - 18s 934ms/step - loss: 10.3020 - acc: 0.2681 - val_loss: 11.0057 - val_acc: 0.0667\n",
            "\n",
            "Epoch 00005: val_acc did not improve from 0.06667\n",
            "Epoch 6/100\n",
            "19/19 [==============================] - 18s 937ms/step - loss: 9.6334 - acc: 0.3670 - val_loss: 10.8647 - val_acc: 0.0667\n",
            "\n",
            "Epoch 00006: val_acc did not improve from 0.06667\n",
            "Epoch 7/100\n",
            "19/19 [==============================] - 18s 933ms/step - loss: 9.4145 - acc: 0.4763 - val_loss: 10.9164 - val_acc: 0.0667\n",
            "\n",
            "Epoch 00007: val_acc did not improve from 0.06667\n",
            "Epoch 8/100\n",
            "19/19 [==============================] - 18s 929ms/step - loss: 9.0031 - acc: 0.5959 - val_loss: 10.7477 - val_acc: 0.0667\n",
            "\n",
            "Epoch 00008: val_acc did not improve from 0.06667\n",
            "Epoch 9/100\n",
            "19/19 [==============================] - 18s 929ms/step - loss: 8.5491 - acc: 0.7143 - val_loss: 10.8072 - val_acc: 0.0667\n",
            "\n",
            "Epoch 00009: val_acc did not improve from 0.06667\n",
            "Epoch 10/100\n",
            "19/19 [==============================] - 18s 931ms/step - loss: 8.1167 - acc: 0.8183 - val_loss: 10.5953 - val_acc: 0.0667\n",
            "\n",
            "Epoch 00010: val_acc did not improve from 0.06667\n",
            "Epoch 11/100\n",
            "19/19 [==============================] - 18s 932ms/step - loss: 7.9752 - acc: 0.8545 - val_loss: 10.4410 - val_acc: 0.0667\n",
            "\n",
            "Epoch 00011: val_acc did not improve from 0.06667\n",
            "Epoch 12/100\n",
            "19/19 [==============================] - 18s 934ms/step - loss: 7.8867 - acc: 0.8519 - val_loss: 10.9542 - val_acc: 0.0533\n",
            "\n",
            "Epoch 00012: val_acc did not improve from 0.06667\n",
            "Epoch 13/100\n",
            "19/19 [==============================] - 18s 934ms/step - loss: 7.5019 - acc: 0.9698 - val_loss: 11.0114 - val_acc: 0.0800\n",
            "\n",
            "Epoch 00013: val_acc improved from 0.06667 to 0.08000, saving model to ./ResNet152.h5\n",
            "Epoch 14/100\n",
            "19/19 [==============================] - 18s 928ms/step - loss: 7.5061 - acc: 0.9418 - val_loss: 10.6896 - val_acc: 0.0600\n",
            "\n",
            "Epoch 00014: val_acc did not improve from 0.08000\n",
            "Epoch 15/100\n",
            "19/19 [==============================] - 18s 935ms/step - loss: 7.4321 - acc: 0.9623 - val_loss: 13.9100 - val_acc: 0.0667\n",
            "\n",
            "Epoch 00015: val_acc did not improve from 0.08000\n",
            "Epoch 16/100\n",
            "19/19 [==============================] - 18s 934ms/step - loss: 7.3153 - acc: 0.9613 - val_loss: 11.8120 - val_acc: 0.0800\n",
            "\n",
            "Epoch 00016: val_acc did not improve from 0.08000\n",
            "\n",
            "Epoch 00016: ReduceLROnPlateau reducing learning rate to 9.999999747378752e-06.\n",
            "Epoch 17/100\n",
            "19/19 [==============================] - 18s 930ms/step - loss: 7.2187 - acc: 0.9813 - val_loss: 10.0671 - val_acc: 0.0600\n",
            "\n",
            "Epoch 00017: val_acc did not improve from 0.08000\n",
            "Epoch 18/100\n",
            "19/19 [==============================] - 18s 928ms/step - loss: 7.1518 - acc: 1.0000 - val_loss: 10.0126 - val_acc: 0.0667\n",
            "\n",
            "Epoch 00018: val_acc did not improve from 0.08000\n",
            "Epoch 19/100\n",
            "19/19 [==============================] - 18s 929ms/step - loss: 7.1402 - acc: 1.0000 - val_loss: 9.9838 - val_acc: 0.0933\n",
            "\n",
            "Epoch 00019: val_acc improved from 0.08000 to 0.09333, saving model to ./ResNet152.h5\n",
            "Epoch 20/100\n",
            "19/19 [==============================] - 18s 925ms/step - loss: 7.1318 - acc: 1.0000 - val_loss: 9.9636 - val_acc: 0.0667\n",
            "\n",
            "Epoch 00020: val_acc did not improve from 0.09333\n",
            "Epoch 21/100\n",
            "19/19 [==============================] - 18s 938ms/step - loss: 7.1248 - acc: 1.0000 - val_loss: 9.9538 - val_acc: 0.0600\n",
            "\n",
            "Epoch 00021: val_acc did not improve from 0.09333\n",
            "Epoch 22/100\n",
            "19/19 [==============================] - 18s 958ms/step - loss: 7.1208 - acc: 1.0000 - val_loss: 9.9508 - val_acc: 0.0667\n",
            "\n",
            "Epoch 00022: val_acc did not improve from 0.09333\n",
            "Epoch 23/100\n",
            "19/19 [==============================] - 18s 929ms/step - loss: 7.1103 - acc: 1.0000 - val_loss: 9.9557 - val_acc: 0.0733\n",
            "\n",
            "Epoch 00023: val_acc did not improve from 0.09333\n",
            "Epoch 24/100\n",
            "19/19 [==============================] - 18s 926ms/step - loss: 7.1055 - acc: 1.0000 - val_loss: 9.9730 - val_acc: 0.0667\n",
            "\n",
            "Epoch 00024: val_acc did not improve from 0.09333\n",
            "Epoch 25/100\n",
            "19/19 [==============================] - 18s 927ms/step - loss: 7.0952 - acc: 1.0000 - val_loss: 10.0025 - val_acc: 0.0600\n",
            "\n",
            "Epoch 00025: val_acc did not improve from 0.09333\n",
            "Epoch 26/100\n",
            "19/19 [==============================] - 18s 930ms/step - loss: 7.0883 - acc: 1.0000 - val_loss: 10.0244 - val_acc: 0.0667\n",
            "\n",
            "Epoch 00026: val_acc did not improve from 0.09333\n",
            "Epoch 27/100\n",
            "19/19 [==============================] - 18s 931ms/step - loss: 7.0832 - acc: 1.0000 - val_loss: 10.0184 - val_acc: 0.0733\n",
            "\n",
            "Epoch 00027: val_acc did not improve from 0.09333\n",
            "\n",
            "Epoch 00027: ReduceLROnPlateau reducing learning rate to 9.999999747378752e-07.\n",
            "Epoch 28/100\n",
            "19/19 [==============================] - 18s 934ms/step - loss: 7.0742 - acc: 1.0000 - val_loss: 10.0452 - val_acc: 0.0467\n",
            "\n",
            "Epoch 00028: val_acc did not improve from 0.09333\n",
            "Epoch 29/100\n",
            "19/19 [==============================] - 18s 934ms/step - loss: 7.0760 - acc: 1.0000 - val_loss: 10.1350 - val_acc: 0.0600\n",
            "\n",
            "Epoch 00029: val_acc did not improve from 0.09333\n",
            "Epoch 30/100\n",
            "19/19 [==============================] - 18s 933ms/step - loss: 7.0742 - acc: 1.0000 - val_loss: 10.1686 - val_acc: 0.0800\n",
            "\n",
            "Epoch 00030: val_acc did not improve from 0.09333\n",
            "Epoch 31/100\n",
            "19/19 [==============================] - 18s 934ms/step - loss: 7.0776 - acc: 1.0000 - val_loss: 10.1698 - val_acc: 0.0667\n",
            "\n",
            "Epoch 00031: val_acc did not improve from 0.09333\n",
            "Epoch 32/100\n",
            "19/19 [==============================] - 18s 934ms/step - loss: 7.0711 - acc: 1.0000 - val_loss: 10.1047 - val_acc: 0.0667\n",
            "\n",
            "Epoch 00032: val_acc did not improve from 0.09333\n",
            "\n",
            "Epoch 00032: ReduceLROnPlateau reducing learning rate to 9.999999974752428e-08.\n",
            "Epoch 33/100\n",
            "19/19 [==============================] - 18s 936ms/step - loss: 7.0764 - acc: 1.0000 - val_loss: 10.0519 - val_acc: 0.0933\n",
            "\n",
            "Epoch 00033: val_acc did not improve from 0.09333\n",
            "Epoch 34/100\n",
            "19/19 [==============================] - 18s 934ms/step - loss: 7.0706 - acc: 1.0000 - val_loss: 9.9864 - val_acc: 0.0933\n",
            "\n",
            "Epoch 00034: val_acc did not improve from 0.09333\n",
            "Epoch 00034: early stopping\n"
          ],
          "name": "stdout"
        }
      ]
    },
    {
      "cell_type": "code",
      "metadata": {
        "trusted": true,
        "id": "WUnPj3tl3Wo2",
        "colab": {
          "base_uri": "https://localhost:8080/"
        },
        "outputId": "bb700137-c01a-40cb-91c9-1fb6cda5ec68"
      },
      "source": [
        "lossandacc = ResNet152.evaluate_generator(test_set,verbose=1)\n",
        "print(lossandacc)"
      ],
      "execution_count": null,
      "outputs": [
        {
          "output_type": "stream",
          "text": [
            "/usr/local/lib/python3.6/dist-packages/tensorflow/python/keras/engine/training.py:1877: UserWarning: `Model.evaluate_generator` is deprecated and will be removed in a future version. Please use `Model.evaluate`, which supports generators.\n",
            "  warnings.warn('`Model.evaluate_generator` is deprecated and '\n"
          ],
          "name": "stderr"
        },
        {
          "output_type": "stream",
          "text": [
            "4/4 [==============================] - 2s 541ms/step - loss: 9.9076 - acc: 0.1280\n",
            "[9.907570838928223, 0.12800000607967377]\n"
          ],
          "name": "stdout"
        }
      ]
    },
    {
      "cell_type": "code",
      "metadata": {
        "colab": {
          "base_uri": "https://localhost:8080/"
        },
        "id": "G-rnsHJ8gwKx",
        "outputId": "dcc5fe6c-dcd1-471e-a6d1-3678e0cb2703"
      },
      "source": [
        "Y_pred = ResNet152.predict_generator(test_set, 125 // BATCH_SIZE+1)\n",
        "y_pred = np.argmax(Y_pred, axis=1)\n",
        "print('Confusion Matrix')\n",
        "conf = confusion_matrix(test_set.classes, y_pred)\n"
      ],
      "execution_count": null,
      "outputs": [
        {
          "output_type": "stream",
          "text": [
            "/usr/local/lib/python3.6/dist-packages/tensorflow/python/keras/engine/training.py:1905: UserWarning: `Model.predict_generator` is deprecated and will be removed in a future version. Please use `Model.predict`, which supports generators.\n",
            "  warnings.warn('`Model.predict_generator` is deprecated and '\n"
          ],
          "name": "stderr"
        },
        {
          "output_type": "stream",
          "text": [
            "Confusion Matrix\n"
          ],
          "name": "stdout"
        }
      ]
    },
    {
      "cell_type": "code",
      "metadata": {
        "colab": {
          "base_uri": "https://localhost:8080/"
        },
        "id": "me567DobgzQC",
        "outputId": "aa7db01e-34d6-4974-8a21-5e9c4da004f5"
      },
      "source": [
        "conf"
      ],
      "execution_count": null,
      "outputs": [
        {
          "output_type": "execute_result",
          "data": {
            "text/plain": [
              "array([[ 3,  0,  0,  3,  0,  0,  0,  0,  0,  2,  0,  0,  0,  0,  0],\n",
              "       [ 0,  0,  0,  4,  0,  3,  1,  0,  0,  0,  0,  0,  0,  0,  0],\n",
              "       [ 0,  1,  0,  1,  0,  0,  0,  0,  2,  4,  0,  0,  0,  0,  0],\n",
              "       [ 0,  0,  0,  2,  0,  0,  0,  0,  0,  6,  0,  0,  0,  0,  0],\n",
              "       [ 1,  0,  0,  1,  0,  5,  0,  0,  0,  1,  0,  0,  0,  0,  0],\n",
              "       [ 0,  0,  0,  5,  0,  3,  0,  0,  0,  0,  0,  0,  0,  0,  0],\n",
              "       [ 0,  3,  0,  0,  0,  0,  0,  0,  0,  5,  0,  0,  0,  0,  0],\n",
              "       [ 0,  3,  0,  2,  0,  0,  0,  0,  0,  3,  0,  0,  0,  0,  0],\n",
              "       [ 0,  1,  0,  0,  0,  0,  0,  0,  0,  7,  0,  0,  0,  0,  0],\n",
              "       [ 0,  0,  0,  0,  0,  0,  0,  0,  0,  8,  0,  0,  0,  0,  0],\n",
              "       [ 0,  4,  0,  3,  0,  0,  0,  0,  0,  1,  0,  0,  0,  0,  0],\n",
              "       [ 0,  7,  0,  0,  0,  0,  0,  0,  0,  1,  0,  0,  0,  0,  0],\n",
              "       [ 0,  2,  0,  0,  0,  0,  0,  0,  0,  6,  0,  0,  0,  0,  0],\n",
              "       [ 0,  0,  0,  1,  0,  0,  0,  0,  0, 12,  0,  0,  0,  0,  0],\n",
              "       [ 0,  0,  0,  0,  0,  0,  0,  0,  0,  8,  0,  0,  0,  0,  0]])"
            ]
          },
          "metadata": {
            "tags": []
          },
          "execution_count": 34
        }
      ]
    },
    {
      "cell_type": "markdown",
      "metadata": {
        "id": "lYQbSA6d3Wo2"
      },
      "source": [
        "# Training using VGG19"
      ]
    },
    {
      "cell_type": "code",
      "metadata": {
        "trusted": true,
        "id": "2p_wBqlI3Wo2",
        "colab": {
          "base_uri": "https://localhost:8080/"
        },
        "outputId": "53fe7725-1748-4425-b8f4-4befcb9989b6"
      },
      "source": [
        "from tensorflow.keras.applications import VGG19\n",
        "from tensorflow.keras.layers import Dense\n",
        "from tensorflow.keras.models import Model\n",
        "\n",
        "def get_model():\n",
        "    base = VGG19(input_shape=(224,224,3), include_top=False, \\\n",
        "                       pooling='max', weights='imagenet')\n",
        "    base.trainable = True\n",
        "    first = Dense(512, activation='relu',kernel_regularizer=regularizers.l2(0.01))(base.output)\n",
        "\n",
        "    second = Dropout(0.01)(first)\n",
        "    third = Dense(128, activation='relu')(second)\n",
        "    final = Dense(32, activation='relu')(third)\n",
        "\n",
        "    \n",
        "    cool_dense = Dense(15, activation='softmax', name='cool_dense')(final)\n",
        "\n",
        "    model = Model(inputs=base.inputs, outputs=cool_dense, name='VGG19')\n",
        "    model.compile(loss='categorical_crossentropy',\n",
        "          optimizer=Adam(lr=0.001),\n",
        "          metrics=['acc'])\n",
        "    return model  \n",
        "\n",
        "VGG19 = get_model()\n",
        "\n",
        "file_path = './VGG19.h5'\n",
        "checkpoint = ModelCheckpoint(file_path, monitor='val_acc', verbose=1, save_best_only=True, mode='max')\n",
        "reduce_on_plateau = ReduceLROnPlateau(monitor=\"val_loss\", mode=\"min\", factor=0.1, patience=5, verbose=1)\n",
        "es = EarlyStopping(monitor='val_acc', mode='max', verbose=1, patience=15)\n",
        "callbacks_list = [ checkpoint, reduce_on_plateau, es]\n",
        "hist = VGG19.fit(train_set,\n",
        "      callbacks=callbacks_list,\n",
        "      epochs=100,\n",
        "      validation_data=val_set,\n",
        "      verbose=1)"
      ],
      "execution_count": null,
      "outputs": [
        {
          "output_type": "stream",
          "text": [
            "Downloading data from https://storage.googleapis.com/tensorflow/keras-applications/vgg19/vgg19_weights_tf_dim_ordering_tf_kernels_notop.h5\n",
            "80142336/80134624 [==============================] - 1s 0us/step\n",
            "Epoch 1/100\n",
            "19/19 [==============================] - 13s 506ms/step - loss: 55.8722 - acc: 0.0336 - val_loss: 6.3084 - val_acc: 0.0667\n",
            "\n",
            "Epoch 00001: val_acc improved from -inf to 0.06667, saving model to ./VGG19.h5\n",
            "Epoch 2/100\n",
            "19/19 [==============================] - 7s 386ms/step - loss: 6.0189 - acc: 0.0537 - val_loss: 5.3225 - val_acc: 0.0667\n",
            "\n",
            "Epoch 00002: val_acc did not improve from 0.06667\n",
            "Epoch 3/100\n",
            "19/19 [==============================] - 7s 383ms/step - loss: 5.1753 - acc: 0.0258 - val_loss: 4.7902 - val_acc: 0.0667\n",
            "\n",
            "Epoch 00003: val_acc did not improve from 0.06667\n",
            "Epoch 4/100\n",
            "19/19 [==============================] - 7s 382ms/step - loss: 4.7138 - acc: 0.0247 - val_loss: 4.4922 - val_acc: 0.0667\n",
            "\n",
            "Epoch 00004: val_acc did not improve from 0.06667\n",
            "Epoch 5/100\n",
            "19/19 [==============================] - 7s 382ms/step - loss: 4.4855 - acc: 0.0647 - val_loss: 4.3156 - val_acc: 0.0667\n",
            "\n",
            "Epoch 00005: val_acc did not improve from 0.06667\n",
            "Epoch 6/100\n",
            "19/19 [==============================] - 7s 381ms/step - loss: 4.2908 - acc: 0.0774 - val_loss: 4.1963 - val_acc: 0.0667\n",
            "\n",
            "Epoch 00006: val_acc did not improve from 0.06667\n",
            "Epoch 7/100\n",
            "19/19 [==============================] - 7s 386ms/step - loss: 4.1825 - acc: 0.0296 - val_loss: 4.1067 - val_acc: 0.0667\n",
            "\n",
            "Epoch 00007: val_acc did not improve from 0.06667\n",
            "Epoch 8/100\n",
            "19/19 [==============================] - 7s 383ms/step - loss: 4.0874 - acc: 0.0468 - val_loss: 4.0371 - val_acc: 0.0667\n",
            "\n",
            "Epoch 00008: val_acc did not improve from 0.06667\n",
            "Epoch 9/100\n",
            "19/19 [==============================] - 7s 383ms/step - loss: 4.0237 - acc: 0.0994 - val_loss: 3.9808 - val_acc: 0.0667\n",
            "\n",
            "Epoch 00009: val_acc did not improve from 0.06667\n",
            "Epoch 10/100\n",
            "19/19 [==============================] - 7s 382ms/step - loss: 3.9690 - acc: 0.0976 - val_loss: 3.9342 - val_acc: 0.0667\n",
            "\n",
            "Epoch 00010: val_acc did not improve from 0.06667\n",
            "Epoch 11/100\n",
            "19/19 [==============================] - 7s 382ms/step - loss: 3.9235 - acc: 0.0380 - val_loss: 3.8950 - val_acc: 0.0667\n",
            "\n",
            "Epoch 00011: val_acc did not improve from 0.06667\n",
            "Epoch 12/100\n",
            "19/19 [==============================] - 7s 380ms/step - loss: 3.8864 - acc: 0.0530 - val_loss: 3.8613 - val_acc: 0.0667\n",
            "\n",
            "Epoch 00012: val_acc did not improve from 0.06667\n",
            "Epoch 13/100\n",
            "19/19 [==============================] - 7s 380ms/step - loss: 3.8532 - acc: 0.0443 - val_loss: 3.8320 - val_acc: 0.0667\n",
            "\n",
            "Epoch 00013: val_acc did not improve from 0.06667\n",
            "Epoch 14/100\n",
            "19/19 [==============================] - 7s 379ms/step - loss: 3.8257 - acc: 0.0576 - val_loss: 3.8062 - val_acc: 0.0667\n",
            "\n",
            "Epoch 00014: val_acc did not improve from 0.06667\n",
            "Epoch 15/100\n",
            "19/19 [==============================] - 7s 380ms/step - loss: 3.7985 - acc: 0.0547 - val_loss: 3.7832 - val_acc: 0.0667\n",
            "\n",
            "Epoch 00015: val_acc did not improve from 0.06667\n",
            "Epoch 16/100\n",
            "19/19 [==============================] - 7s 381ms/step - loss: 3.7784 - acc: 0.0464 - val_loss: 3.7624 - val_acc: 0.0667\n",
            "\n",
            "Epoch 00016: val_acc did not improve from 0.06667\n",
            "Epoch 00016: early stopping\n"
          ],
          "name": "stdout"
        }
      ]
    },
    {
      "cell_type": "code",
      "metadata": {
        "trusted": true,
        "id": "t4FV9XA93Wo3",
        "outputId": "c128288b-6f38-45d6-f2f3-3ba5daf55d53"
      },
      "source": [
        "lossandacc = VGG19.evaluate_generator(test_generator,verbose=1)\n",
        "print(lossandacc)"
      ],
      "execution_count": null,
      "outputs": [
        {
          "output_type": "stream",
          "text": [
            "32/32 [==============================] - 8s 261ms/step - loss: 0.3346 - acc: 0.8505\n",
            "[0.3346271039918065, 0.8505]\n"
          ],
          "name": "stdout"
        }
      ]
    },
    {
      "cell_type": "markdown",
      "metadata": {
        "id": "3Z05WA0J3Wo4"
      },
      "source": [
        "# Training using ResNet50"
      ]
    },
    {
      "cell_type": "code",
      "metadata": {
        "trusted": true,
        "id": "wvPdnCkr3Wo4",
        "colab": {
          "base_uri": "https://localhost:8080/"
        },
        "outputId": "57012411-eb16-4c64-e5c5-fc27a89bb09e"
      },
      "source": [
        "from tensorflow.keras.applications import ResNet50\n",
        "from tensorflow.keras.layers import Dense\n",
        "from tensorflow.keras.models import Model\n",
        "\n",
        "def get_model():\n",
        "    base = ResNet50(input_shape=(224,224,3), include_top=False, \\\n",
        "                       pooling='max', weights='imagenet')\n",
        "    base.trainable = True\n",
        "    first = Dense(512, activation='relu',kernel_regularizer=regularizers.l2(0.01))(base.output)\n",
        "\n",
        "    second = Dropout(0.01)(first)\n",
        "    third = Dense(128, activation='relu')(second)\n",
        "    final = Dense(32, activation='relu')(third)\n",
        "\n",
        "    \n",
        "    cool_dense = Dense(15, activation='softmax', name='cool_dense')(final)\n",
        "\n",
        "    model = Model(inputs=base.inputs, outputs=cool_dense, name='mobilenetv2')\n",
        "    model.compile(loss='categorical_crossentropy',\n",
        "          optimizer=Adam(lr=0.001),\n",
        "          metrics=['acc'])\n",
        "    return model\n",
        "\n",
        "ResNet50 = get_model()\n",
        "\n",
        "file_path = './ResNet50.h5'\n",
        "checkpoint = ModelCheckpoint(file_path, monitor='val_acc', verbose=1, save_best_only=True, mode='max')\n",
        "reduce_on_plateau = ReduceLROnPlateau(monitor=\"val_loss\", mode=\"min\", factor=0.1, patience=5, verbose=1)\n",
        "es = EarlyStopping(monitor='val_acc', mode='max', verbose=1, patience=15)\n",
        "callbacks_list = [ checkpoint, reduce_on_plateau, es]\n",
        "hist = ResNet50.fit(train_set,\n",
        "      callbacks=callbacks_list,\n",
        "      epochs=100,\n",
        "      validation_data=val_set,\n",
        "      verbose=1)"
      ],
      "execution_count": null,
      "outputs": [
        {
          "output_type": "stream",
          "text": [
            "Epoch 1/100\n",
            "19/19 [==============================] - 14s 479ms/step - loss: 25.3565 - acc: 0.0329 - val_loss: 10.2665 - val_acc: 0.0667\n",
            "\n",
            "Epoch 00001: val_acc improved from -inf to 0.06667, saving model to ./ResNet50.h5\n",
            "Epoch 2/100\n",
            "19/19 [==============================] - 8s 427ms/step - loss: 10.1397 - acc: 0.0150 - val_loss: 9.6686 - val_acc: 0.0667\n",
            "\n",
            "Epoch 00002: val_acc did not improve from 0.06667\n",
            "Epoch 3/100\n",
            "19/19 [==============================] - 9s 475ms/step - loss: 9.5432 - acc: 0.0000e+00 - val_loss: 9.1844 - val_acc: 0.0667\n",
            "\n",
            "Epoch 00003: val_acc did not improve from 0.06667\n",
            "Epoch 4/100\n",
            "19/19 [==============================] - 8s 423ms/step - loss: 9.0962 - acc: 0.0259 - val_loss: 8.7683 - val_acc: 0.0667\n",
            "\n",
            "Epoch 00004: val_acc did not improve from 0.06667\n",
            "Epoch 5/100\n",
            "19/19 [==============================] - 8s 426ms/step - loss: 8.6715 - acc: 0.0947 - val_loss: 8.3974 - val_acc: 0.0667\n",
            "\n",
            "Epoch 00005: val_acc did not improve from 0.06667\n",
            "Epoch 6/100\n",
            "19/19 [==============================] - 8s 421ms/step - loss: 8.3109 - acc: 0.0531 - val_loss: 8.0579 - val_acc: 0.0667\n",
            "\n",
            "Epoch 00006: val_acc did not improve from 0.06667\n",
            "Epoch 7/100\n",
            "19/19 [==============================] - 8s 421ms/step - loss: 7.9800 - acc: 0.0160 - val_loss: 7.7452 - val_acc: 0.0667\n",
            "\n",
            "Epoch 00007: val_acc did not improve from 0.06667\n",
            "Epoch 8/100\n",
            "19/19 [==============================] - 8s 419ms/step - loss: 7.6726 - acc: 0.0312 - val_loss: 7.4549 - val_acc: 0.0667\n",
            "\n",
            "Epoch 00008: val_acc did not improve from 0.06667\n",
            "Epoch 9/100\n",
            "19/19 [==============================] - 8s 419ms/step - loss: 7.3873 - acc: 0.0550 - val_loss: 7.1836 - val_acc: 0.0667\n",
            "\n",
            "Epoch 00009: val_acc did not improve from 0.06667\n",
            "Epoch 10/100\n",
            "19/19 [==============================] - 8s 419ms/step - loss: 7.1195 - acc: 0.0396 - val_loss: 6.9293 - val_acc: 0.0667\n",
            "\n",
            "Epoch 00010: val_acc did not improve from 0.06667\n",
            "Epoch 11/100\n",
            "19/19 [==============================] - 8s 417ms/step - loss: 6.8687 - acc: 0.1062 - val_loss: 6.6902 - val_acc: 0.0667\n",
            "\n",
            "Epoch 00011: val_acc did not improve from 0.06667\n",
            "Epoch 12/100\n",
            "19/19 [==============================] - 8s 417ms/step - loss: 6.6338 - acc: 0.0654 - val_loss: 6.4648 - val_acc: 0.0667\n",
            "\n",
            "Epoch 00012: val_acc did not improve from 0.06667\n",
            "Epoch 13/100\n",
            "19/19 [==============================] - 8s 418ms/step - loss: 6.4111 - acc: 0.0530 - val_loss: 6.2520 - val_acc: 0.0667\n",
            "\n",
            "Epoch 00013: val_acc did not improve from 0.06667\n",
            "Epoch 14/100\n",
            "19/19 [==============================] - 8s 414ms/step - loss: 6.2024 - acc: 0.0488 - val_loss: 6.0508 - val_acc: 0.0667\n",
            "\n",
            "Epoch 00014: val_acc did not improve from 0.06667\n",
            "Epoch 15/100\n",
            "19/19 [==============================] - 8s 416ms/step - loss: 6.0016 - acc: 0.1415 - val_loss: 5.8605 - val_acc: 0.0667\n",
            "\n",
            "Epoch 00015: val_acc did not improve from 0.06667\n",
            "Epoch 16/100\n",
            "19/19 [==============================] - 8s 416ms/step - loss: 5.8159 - acc: 0.0189 - val_loss: 5.6804 - val_acc: 0.0667\n",
            "\n",
            "Epoch 00016: val_acc did not improve from 0.06667\n",
            "Epoch 00016: early stopping\n"
          ],
          "name": "stdout"
        }
      ]
    },
    {
      "cell_type": "code",
      "metadata": {
        "trusted": true,
        "id": "k4QMaCOF3Wo5",
        "colab": {
          "base_uri": "https://localhost:8080/"
        },
        "outputId": "92ea84a9-77b7-4b48-85f6-2c6640fdb213"
      },
      "source": [
        "lossandacc = ResNet50.evaluate_generator(test_set,verbose=1)\n",
        "print(lossandacc)"
      ],
      "execution_count": null,
      "outputs": [
        {
          "output_type": "stream",
          "text": [
            "/usr/local/lib/python3.6/dist-packages/tensorflow/python/keras/engine/training.py:1877: UserWarning: `Model.evaluate_generator` is deprecated and will be removed in a future version. Please use `Model.evaluate`, which supports generators.\n",
            "  warnings.warn('`Model.evaluate_generator` is deprecated and '\n"
          ],
          "name": "stderr"
        },
        {
          "output_type": "stream",
          "text": [
            "4/4 [==============================] - 2s 481ms/step - loss: 5.6806 - acc: 0.0640\n",
            "[5.680646896362305, 0.06400000303983688]\n"
          ],
          "name": "stdout"
        }
      ]
    },
    {
      "cell_type": "code",
      "metadata": {
        "trusted": true,
        "id": "4eb2yIuo3Wo5",
        "colab": {
          "base_uri": "https://localhost:8080/"
        },
        "outputId": "d2b8802e-8e9f-41ac-966b-97fa96869109"
      },
      "source": [
        "Y_pred = ResNet50.predict_generator(train_set, 600 // BATCH_SIZE+1)\n",
        "y_pred = np.argmax(Y_pred, axis=1)\n",
        "print('Confusion Matrix')\n",
        "conf = confusion_matrix(train_set.classes, y_pred)"
      ],
      "execution_count": null,
      "outputs": [
        {
          "output_type": "stream",
          "text": [
            "/usr/local/lib/python3.6/dist-packages/tensorflow/python/keras/engine/training.py:1905: UserWarning: `Model.predict_generator` is deprecated and will be removed in a future version. Please use `Model.predict`, which supports generators.\n",
            "  warnings.warn('`Model.predict_generator` is deprecated and '\n"
          ],
          "name": "stderr"
        },
        {
          "output_type": "stream",
          "text": [
            "Confusion Matrix\n"
          ],
          "name": "stdout"
        }
      ]
    },
    {
      "cell_type": "code",
      "metadata": {
        "trusted": true,
        "id": "P3s5rf2H3Wo6",
        "colab": {
          "base_uri": "https://localhost:8080/"
        },
        "outputId": "3acb507b-28f2-4639-9767-d1bbf6700da7"
      },
      "source": [
        "conf"
      ],
      "execution_count": null,
      "outputs": [
        {
          "output_type": "execute_result",
          "data": {
            "text/plain": [
              "array([[ 0,  0,  0,  0,  0,  0,  0,  0,  0,  0,  0,  0,  0,  0, 40],\n",
              "       [ 0,  0,  0,  0,  0,  0,  0,  0,  0,  0,  0,  0,  0,  0, 40],\n",
              "       [ 0,  0,  0,  0,  0,  0,  0,  0,  0,  0,  0,  0,  0,  0, 40],\n",
              "       [ 0,  0,  0,  0,  0,  0,  0,  0,  0,  0,  0,  0,  0,  0, 40],\n",
              "       [ 0,  0,  0,  0,  0,  0,  0,  0,  0,  0,  0,  0,  0,  0, 40],\n",
              "       [ 0,  0,  0,  0,  0,  0,  0,  0,  0,  0,  0,  0,  0,  0, 40],\n",
              "       [ 0,  0,  0,  0,  0,  0,  0,  0,  0,  0,  0,  0,  0,  0, 40],\n",
              "       [ 0,  0,  0,  0,  0,  0,  0,  0,  0,  0,  0,  0,  0,  0, 40],\n",
              "       [ 0,  0,  0,  0,  0,  0,  0,  0,  0,  0,  0,  0,  0,  0, 40],\n",
              "       [ 0,  0,  0,  0,  0,  0,  0,  0,  0,  0,  0,  0,  0,  0, 40],\n",
              "       [ 0,  0,  0,  0,  0,  0,  0,  0,  0,  0,  0,  0,  0,  0, 40],\n",
              "       [ 0,  0,  0,  0,  0,  0,  0,  0,  0,  0,  0,  0,  0,  0, 40],\n",
              "       [ 0,  0,  0,  0,  0,  0,  0,  0,  0,  0,  0,  0,  0,  0, 40],\n",
              "       [ 0,  0,  0,  0,  0,  0,  0,  0,  0,  0,  0,  0,  0,  0, 40],\n",
              "       [ 0,  0,  0,  0,  0,  0,  0,  0,  0,  0,  0,  0,  0,  0, 40]])"
            ]
          },
          "metadata": {
            "tags": []
          },
          "execution_count": 43
        }
      ]
    },
    {
      "cell_type": "code",
      "metadata": {
        "id": "C9T4Z0Q1lMm9"
      },
      "source": [
        ""
      ],
      "execution_count": null,
      "outputs": []
    }
  ]
}
