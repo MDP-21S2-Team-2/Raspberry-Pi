{
  "nbformat": 4,
  "nbformat_minor": 0,
  "metadata": {
    "colab": {
      "name": "Dist_est.ipynb",
      "provenance": []
    },
    "kernelspec": {
      "name": "python3",
      "display_name": "Python 3"
    }
  },
  "cells": [
    {
      "cell_type": "code",
      "metadata": {
        "id": "AeFCWJFx-Oqo"
      },
      "source": [
        "# img_box_ratio = 0.5\n",
        "# distance/(box length)\n",
        "dist_box_ratio = 2\n",
        "box_len = 1\n",
        "dir = 'straight'\n",
        "img_syb = 7"
      ],
      "execution_count": 1,
      "outputs": []
    },
    {
      "cell_type": "code",
      "metadata": {
        "id": "EF9h3V1u-e1f"
      },
      "source": [
        "def conf_init():\n",
        "  confidence = {}\n",
        "  for i in range(1,2):\n",
        "    confidence[i]=0.9\n",
        "    confidence[10-i]=0.9\n",
        "  for i in range(2,3):\n",
        "    confidence[i]=0.8\n",
        "    confidence[10-i]=0.8\n",
        "  for i in range(3,4):\n",
        "    confidence[i]=0.7\n",
        "    confidence[10-i]=0.7\n",
        "  for i in range(4,5):\n",
        "    confidence[i]=0.6\n",
        "    confidence[10-i]=0.6\n",
        "  confidence[0]=1.0\n",
        "  confidence[5]=0.5\n",
        "\n",
        "  return confidence\n",
        "\n",
        "def coordinates(distance,x_dir,y_dir,cur_x_cor,cur_y_cor):\n",
        "  if (distance <= 10 ):\n",
        "    img_cor = (cur_x_cor + (1*x_dir), cur_y_cor + (1*y_dir))\n",
        "  elif (distance > 10 and distance <= 20):\n",
        "    img_cor = (cur_x_cor + (2*x_dir) , cur_y_cor + (1*y_dir))\n",
        "  elif (distance > 20 and distance <= 30):\n",
        "    img_cor = (cur_x_cor + (3*x_dir) , cur_y_cor + (1*y_dir))\n",
        "  elif (distance > 30 and distance <= 40):\n",
        "    img_cor = (cur_x_cor + (4*x_dir) , cur_y_cor + (1*y_dir))\n",
        "  elif (distance > 40 and distance <= 50):\n",
        "    img_cor = (cur_x_cor + (5*x_dir) , cur_y_cor + (1*y_dir))\n",
        "\n",
        "  if (img_cor[0]<0):\n",
        "    img_cor = (0,img_cor[1])\n",
        "  elif (img_cor[0]>14):\n",
        "    img_cor = (14,img_cor[1])\n",
        "  if (img_cor[1]<0):\n",
        "    img_cor = (img_cor[0],0)\n",
        "  elif (img_cor[1]>19):\n",
        "    img_cor = (img_cor[0],19)\n",
        "\n",
        "  return img_cor\n",
        "\n",
        "def main(dist_box_ratio,box_len,img_symb,dir,x,y):\n",
        "  distance =  int(round(dist_box_ratio / box_len))\n",
        "  print(\"Distance: \",distance)\n",
        "  \n",
        "  if (dir == 'straight'):\n",
        "    img_cor = coordinates(distance, -1, 0, x, y)\n",
        "  elif (dir == 'right'):\n",
        "    img_cor = coordinates(distance, 0, -1, x, y)\n",
        "  elif (dir == 'left'):\n",
        "    img_cor = coordinates(distance, 0, 1, x, y)\n",
        "  elif (dir == 'backward'):\n",
        "    img_cor = coordinates(distance, 1, 0, x, y)\n",
        "\n",
        "  print(\"Image Coordinates: \",img_cor)\n",
        "\n",
        "\n",
        "  conf_lookup = conf_init()\n",
        "\n",
        "  confidence = conf_lookup[distance%10]\n",
        "  try:\n",
        "    for key in symb_confidence[img_symb]:\n",
        "      alr_conf = key\n",
        "    if (key<confidence):\n",
        "      symb_confidence[img_symb] = {conf_lookup[distance%10] : img_cor}\n",
        "  except:\n",
        "      symb_confidence[img_symb] = {conf_lookup[distance%10] : img_cor}\n",
        "\n",
        "  print(symb_confidence)"
      ],
      "execution_count": 94,
      "outputs": []
    },
    {
      "cell_type": "code",
      "metadata": {
        "id": "JMpHTHHCA2ia",
        "colab": {
          "base_uri": "https://localhost:8080/"
        },
        "outputId": "9fa270d5-6240-4792-997f-4f3e239a5e78"
      },
      "source": [
        "symb_confidence = {}\n",
        "main(dist_box_ratio = 23,box_len = 1,img_symb = 7,dir = 'straight',x=2,y=3)\n"
      ],
      "execution_count": 95,
      "outputs": [
        {
          "output_type": "stream",
          "text": [
            "Distance:  23\n",
            "Image Coordinates:  (0, 3)\n",
            "{7: {0.7: (0, 3)}}\n"
          ],
          "name": "stdout"
        }
      ]
    },
    {
      "cell_type": "code",
      "metadata": {
        "id": "WA-W_mzuDgS0",
        "colab": {
          "base_uri": "https://localhost:8080/"
        },
        "outputId": "4b162201-5026-4b56-a76d-4a461d581a9a"
      },
      "source": [
        "main(dist_box_ratio = 22,box_len = 1,img_symb = 4,dir = 'right',x=2,y=3)\n"
      ],
      "execution_count": 98,
      "outputs": [
        {
          "output_type": "stream",
          "text": [
            "Distance:  22\n",
            "Image Coordinates:  (2, 2)\n",
            "{7: {0.8: (2, 2)}, 4: {0.8: (2, 2)}}\n"
          ],
          "name": "stdout"
        }
      ]
    },
    {
      "cell_type": "code",
      "metadata": {
        "id": "4QMGberCeq7t"
      },
      "source": [
        ""
      ],
      "execution_count": 98,
      "outputs": []
    },
    {
      "cell_type": "code",
      "metadata": {
        "id": "jmkNW-LUOite"
      },
      "source": [
        ""
      ],
      "execution_count": 98,
      "outputs": []
    },
    {
      "cell_type": "code",
      "metadata": {
        "id": "S0Ls0GbuStl-"
      },
      "source": [
        ""
      ],
      "execution_count": 98,
      "outputs": []
    },
    {
      "cell_type": "code",
      "metadata": {
        "id": "Wi4-4wXGSxDu"
      },
      "source": [
        ""
      ],
      "execution_count": null,
      "outputs": []
    }
  ]
}